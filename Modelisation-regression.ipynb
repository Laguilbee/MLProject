{
 "cells": [
  {
   "cell_type": "markdown",
   "metadata": {},
   "source": [
    "# Modelisation"
   ]
  },
  {
   "cell_type": "markdown",
   "metadata": {},
   "source": [
    "1) Dans un premier temps, vous allez créer un jeu de données comportant seulement les observations qui\n",
    "n’ont pas de valeur manquante. Il reste 2768 observations."
   ]
  },
  {
   "cell_type": "code",
   "execution_count": 1,
   "metadata": {},
   "outputs": [],
   "source": [
    "\n",
    "import pandas as pd\n",
    "import numpy as np\n",
    "# Lecture des données\n",
    "## Charger les données ou les lire directement en précisant le chemin\n",
    "path=\"/Users/hugoguilbot/VALDOM/INSA/Machine learning/Projet/global-data-on-sustainable-energy.csv\"\n",
    "energy=pd.read_csv(path,sep=\",\",header=0)\n",
    "# Vérification du contenu\n",
    "\n",
    "all_columns = energy.columns.tolist()\n",
    "\n",
    "title_Density = all_columns[17]\n",
    "energy[title_Density] = pd.to_numeric(energy[title_Density], errors='coerce')\n",
    "\n",
    "energy['Year'] = energy['Year'].astype(str)"
   ]
  },
  {
   "cell_type": "code",
   "execution_count": 2,
   "metadata": {},
   "outputs": [
    {
     "data": {
      "text/plain": [
       "2768"
      ]
     },
     "execution_count": 2,
     "metadata": {},
     "output_type": "execute_result"
    }
   ],
   "source": [
    "missing_values = energy.isnull().sum()\n",
    "\n",
    "# Dropping specified variables with significant missing values\n",
    "columns_to_drop = [\n",
    "    'Renewable-electricity-generating-capacity-per-capita', \n",
    "    'Financial flows to developing countries (US $)', \n",
    "    'Renewables (% equivalent primary energy)'\n",
    "]\n",
    "df_cleaned = energy.drop(columns=columns_to_drop)\n",
    "\n",
    "# Creating a dataset with only the observations that have no missing values\n",
    "df_no_missing = df_cleaned.dropna()\n",
    "\n",
    "# Checking the number of remaining observations to match the requirement\n",
    "remaining_observations = len(df_no_missing)\n",
    "\n",
    "remaining_observations"
   ]
  },
  {
   "cell_type": "markdown",
   "metadata": {},
   "source": [
    "2) Divisez ce jeu de données en un échantillon d’apprentissage et un échantillon test. Vous prendrez un\n",
    "pourcentage de 20% pour l’échantillon test. Pourquoi cette étape est-elle nécessaire lorsque nous nous\n",
    "concentrons sur les performances des algorithmes ?"
   ]
  },
  {
   "cell_type": "code",
   "execution_count": 3,
   "metadata": {},
   "outputs": [],
   "source": [
    "df_cleaned.dropna(inplace=True)"
   ]
  },
  {
   "cell_type": "code",
   "execution_count": 4,
   "metadata": {},
   "outputs": [
    {
     "data": {
      "text/plain": [
       "(2768, 18)"
      ]
     },
     "execution_count": 4,
     "metadata": {},
     "output_type": "execute_result"
    }
   ],
   "source": [
    "df_cleaned.shape"
   ]
  },
  {
   "cell_type": "code",
   "execution_count": 5,
   "metadata": {},
   "outputs": [],
   "source": [
    "from sklearn.preprocessing import OneHotEncoder\n",
    "categorical_vars = [\"Entity\", \"Year\"]\n",
    "\n",
    "# instantiate the one hot encoder\n",
    "one_hot_encoder = OneHotEncoder(sparse=False, drop = \"first\")"
   ]
  },
  {
   "cell_type": "code",
   "execution_count": 6,
   "metadata": {},
   "outputs": [
    {
     "name": "stderr",
     "output_type": "stream",
     "text": [
      "/Users/hugoguilbot/anaconda3/envs/ProjetML/lib/python3.9/site-packages/sklearn/preprocessing/_encoders.py:975: FutureWarning: `sparse` was renamed to `sparse_output` in version 1.2 and will be removed in 1.4. `sparse_output` is ignored unless you leave `sparse` to its default value.\n",
      "  warnings.warn(\n"
     ]
    }
   ],
   "source": [
    "# apply the one hot encoder logic \n",
    "encoder_vars_array = one_hot_encoder.fit_transform(df_cleaned[categorical_vars])\n",
    "\n",
    "# create object for the feature names using the categorical variables\n",
    "encoder_feature_names = one_hot_encoder.get_feature_names_out(categorical_vars)\n",
    "\n",
    "# create a dataframe to hold the one hot encoded variables\n",
    "encoder_vars_df = pd.DataFrame(encoder_vars_array, columns = encoder_feature_names)\n",
    "\n",
    "# concatenate the new dataframe back to the original input variables dataframe\n",
    "df_cleaned_new = pd.concat([df_cleaned.reset_index(drop=True), encoder_vars_df.reset_index(drop=True)], axis = 1)\n",
    "\n",
    "# drop the original input 2 and input 3 as it is not needed anymore\n",
    "df_cleaned_new.drop(categorical_vars, axis = 1, inplace = True)"
   ]
  },
  {
   "cell_type": "code",
   "execution_count": 7,
   "metadata": {},
   "outputs": [
    {
     "data": {
      "text/plain": [
       "Index(['Access to electricity (% of population)',\n",
       "       'Access to clean fuels for cooking',\n",
       "       'Renewable energy share in the total final energy consumption (%)',\n",
       "       'Electricity from fossil fuels (TWh)', 'Electricity from nuclear (TWh)',\n",
       "       'Electricity from renewables (TWh)',\n",
       "       'Low-carbon electricity (% electricity)',\n",
       "       'Primary energy consumption per capita (kWh/person)',\n",
       "       'Energy intensity level of primary energy (MJ/$2017 PPP GDP)',\n",
       "       'Value_co2_emissions_kt_by_country',\n",
       "       ...\n",
       "       'Year_2010', 'Year_2011', 'Year_2012', 'Year_2013', 'Year_2014',\n",
       "       'Year_2015', 'Year_2016', 'Year_2017', 'Year_2018', 'Year_2019'],\n",
       "      dtype='object', length=177)"
      ]
     },
     "execution_count": 7,
     "metadata": {},
     "output_type": "execute_result"
    }
   ],
   "source": [
    "df_cleaned_new.columns"
   ]
  },
  {
   "cell_type": "code",
   "execution_count": 8,
   "metadata": {},
   "outputs": [
    {
     "data": {
      "text/plain": [
       "Access to electricity (% of population)                             float64\n",
       "Access to clean fuels for cooking                                   float64\n",
       "Renewable energy share in the total final energy consumption (%)    float64\n",
       "Electricity from fossil fuels (TWh)                                 float64\n",
       "Electricity from nuclear (TWh)                                      float64\n",
       "                                                                     ...   \n",
       "Year_2015                                                           float64\n",
       "Year_2016                                                           float64\n",
       "Year_2017                                                           float64\n",
       "Year_2018                                                           float64\n",
       "Year_2019                                                           float64\n",
       "Length: 177, dtype: object"
      ]
     },
     "execution_count": 8,
     "metadata": {},
     "output_type": "execute_result"
    }
   ],
   "source": [
    "df_cleaned_new.dtypes"
   ]
  },
  {
   "cell_type": "code",
   "execution_count": 9,
   "metadata": {},
   "outputs": [],
   "source": [
    "from sklearn.model_selection import train_test_split\n",
    "\n",
    "#definition de la cible\n",
    "target = df_cleaned_new['Value_co2_emissions_kt_by_country']\n",
    "\n",
    "# Supposons que 'Value_co2_emissions_kt_by_country' est la variable cible\n",
    "df_cleaned_new.drop(columns=['Value_co2_emissions_kt_by_country'], inplace=True)\n",
    "\n",
    "\n",
    "# Division du jeu de données\n",
    "x_train, x_test, y_train, y_test = train_test_split(df_cleaned_new, target, test_size=0.2, random_state=2024, shuffle=True)\n",
    "\n",
    "# X_train et y_train sont les échantillons d'apprentissage\n",
    "# X_test et y_test sont les échantillons de test\n"
   ]
  },
  {
   "cell_type": "code",
   "execution_count": 10,
   "metadata": {},
   "outputs": [
    {
     "data": {
      "text/plain": [
       "(2214,)"
      ]
     },
     "execution_count": 10,
     "metadata": {},
     "output_type": "execute_result"
    }
   ],
   "source": [
    "y_train.shape"
   ]
  },
  {
   "cell_type": "markdown",
   "metadata": {},
   "source": [
    "#### Standardization"
   ]
  },
  {
   "cell_type": "code",
   "execution_count": 11,
   "metadata": {},
   "outputs": [
    {
     "data": {
      "text/html": [
       "<div>\n",
       "<style scoped>\n",
       "    .dataframe tbody tr th:only-of-type {\n",
       "        vertical-align: middle;\n",
       "    }\n",
       "\n",
       "    .dataframe tbody tr th {\n",
       "        vertical-align: top;\n",
       "    }\n",
       "\n",
       "    .dataframe thead th {\n",
       "        text-align: right;\n",
       "    }\n",
       "</style>\n",
       "<table border=\"1\" class=\"dataframe\">\n",
       "  <thead>\n",
       "    <tr style=\"text-align: right;\">\n",
       "      <th></th>\n",
       "      <th>Access to electricity (% of population)</th>\n",
       "      <th>Access to clean fuels for cooking</th>\n",
       "      <th>Renewable energy share in the total final energy consumption (%)</th>\n",
       "      <th>Electricity from fossil fuels (TWh)</th>\n",
       "      <th>Electricity from nuclear (TWh)</th>\n",
       "      <th>Electricity from renewables (TWh)</th>\n",
       "      <th>Low-carbon electricity (% electricity)</th>\n",
       "      <th>Primary energy consumption per capita (kWh/person)</th>\n",
       "      <th>Energy intensity level of primary energy (MJ/$2017 PPP GDP)</th>\n",
       "      <th>gdp_growth</th>\n",
       "      <th>...</th>\n",
       "      <th>Year_2010</th>\n",
       "      <th>Year_2011</th>\n",
       "      <th>Year_2012</th>\n",
       "      <th>Year_2013</th>\n",
       "      <th>Year_2014</th>\n",
       "      <th>Year_2015</th>\n",
       "      <th>Year_2016</th>\n",
       "      <th>Year_2017</th>\n",
       "      <th>Year_2018</th>\n",
       "      <th>Year_2019</th>\n",
       "    </tr>\n",
       "  </thead>\n",
       "  <tbody>\n",
       "    <tr>\n",
       "      <th>0</th>\n",
       "      <td>0.710138</td>\n",
       "      <td>0.808360</td>\n",
       "      <td>0.345488</td>\n",
       "      <td>-0.053095</td>\n",
       "      <td>-0.018221</td>\n",
       "      <td>3.159472</td>\n",
       "      <td>1.382715</td>\n",
       "      <td>-0.254322</td>\n",
       "      <td>-0.444138</td>\n",
       "      <td>0.281251</td>\n",
       "      <td>...</td>\n",
       "      <td>-0.231914</td>\n",
       "      <td>-0.23083</td>\n",
       "      <td>-0.228651</td>\n",
       "      <td>-0.224242</td>\n",
       "      <td>-0.232993</td>\n",
       "      <td>-0.234068</td>\n",
       "      <td>-0.231914</td>\n",
       "      <td>-0.228651</td>\n",
       "      <td>-0.228651</td>\n",
       "      <td>-0.236208</td>\n",
       "    </tr>\n",
       "    <tr>\n",
       "      <th>1</th>\n",
       "      <td>0.756417</td>\n",
       "      <td>0.984464</td>\n",
       "      <td>-0.763567</td>\n",
       "      <td>0.750083</td>\n",
       "      <td>1.111264</td>\n",
       "      <td>1.192819</td>\n",
       "      <td>0.031436</td>\n",
       "      <td>0.623102</td>\n",
       "      <td>-0.645034</td>\n",
       "      <td>-0.330781</td>\n",
       "      <td>...</td>\n",
       "      <td>-0.231914</td>\n",
       "      <td>-0.23083</td>\n",
       "      <td>-0.228651</td>\n",
       "      <td>-0.224242</td>\n",
       "      <td>4.291975</td>\n",
       "      <td>-0.234068</td>\n",
       "      <td>-0.231914</td>\n",
       "      <td>-0.228651</td>\n",
       "      <td>-0.228651</td>\n",
       "      <td>-0.236208</td>\n",
       "    </tr>\n",
       "    <tr>\n",
       "      <th>2</th>\n",
       "      <td>0.487528</td>\n",
       "      <td>-0.998627</td>\n",
       "      <td>0.407625</td>\n",
       "      <td>-0.200375</td>\n",
       "      <td>-0.196016</td>\n",
       "      <td>-0.239654</td>\n",
       "      <td>0.404731</td>\n",
       "      <td>-0.533735</td>\n",
       "      <td>-0.372586</td>\n",
       "      <td>0.082300</td>\n",
       "      <td>...</td>\n",
       "      <td>-0.231914</td>\n",
       "      <td>-0.23083</td>\n",
       "      <td>-0.228651</td>\n",
       "      <td>-0.224242</td>\n",
       "      <td>-0.232993</td>\n",
       "      <td>-0.234068</td>\n",
       "      <td>-0.231914</td>\n",
       "      <td>-0.228651</td>\n",
       "      <td>-0.228651</td>\n",
       "      <td>-0.236208</td>\n",
       "    </tr>\n",
       "    <tr>\n",
       "      <th>3</th>\n",
       "      <td>0.725007</td>\n",
       "      <td>0.591419</td>\n",
       "      <td>-0.925794</td>\n",
       "      <td>0.417635</td>\n",
       "      <td>-0.045543</td>\n",
       "      <td>0.221968</td>\n",
       "      <td>-0.574065</td>\n",
       "      <td>-0.164452</td>\n",
       "      <td>-0.598250</td>\n",
       "      <td>-0.100873</td>\n",
       "      <td>...</td>\n",
       "      <td>-0.231914</td>\n",
       "      <td>-0.23083</td>\n",
       "      <td>-0.228651</td>\n",
       "      <td>-0.224242</td>\n",
       "      <td>-0.232993</td>\n",
       "      <td>4.272256</td>\n",
       "      <td>-0.231914</td>\n",
       "      <td>-0.228651</td>\n",
       "      <td>-0.228651</td>\n",
       "      <td>-0.236208</td>\n",
       "    </tr>\n",
       "    <tr>\n",
       "      <th>4</th>\n",
       "      <td>0.730834</td>\n",
       "      <td>0.858129</td>\n",
       "      <td>-0.599661</td>\n",
       "      <td>-0.196259</td>\n",
       "      <td>-0.196016</td>\n",
       "      <td>-0.236921</td>\n",
       "      <td>-0.652618</td>\n",
       "      <td>-0.312828</td>\n",
       "      <td>-0.697321</td>\n",
       "      <td>0.457616</td>\n",
       "      <td>...</td>\n",
       "      <td>-0.231914</td>\n",
       "      <td>-0.23083</td>\n",
       "      <td>-0.228651</td>\n",
       "      <td>-0.224242</td>\n",
       "      <td>-0.232993</td>\n",
       "      <td>-0.234068</td>\n",
       "      <td>-0.231914</td>\n",
       "      <td>-0.228651</td>\n",
       "      <td>-0.228651</td>\n",
       "      <td>-0.236208</td>\n",
       "    </tr>\n",
       "  </tbody>\n",
       "</table>\n",
       "<p>5 rows × 176 columns</p>\n",
       "</div>"
      ],
      "text/plain": [
       "   Access to electricity (% of population)  Access to clean fuels for cooking  \\\n",
       "0                                 0.710138                           0.808360   \n",
       "1                                 0.756417                           0.984464   \n",
       "2                                 0.487528                          -0.998627   \n",
       "3                                 0.725007                           0.591419   \n",
       "4                                 0.730834                           0.858129   \n",
       "\n",
       "   Renewable energy share in the total final energy consumption (%)  \\\n",
       "0                                           0.345488                  \n",
       "1                                          -0.763567                  \n",
       "2                                           0.407625                  \n",
       "3                                          -0.925794                  \n",
       "4                                          -0.599661                  \n",
       "\n",
       "   Electricity from fossil fuels (TWh)  Electricity from nuclear (TWh)  \\\n",
       "0                            -0.053095                       -0.018221   \n",
       "1                             0.750083                        1.111264   \n",
       "2                            -0.200375                       -0.196016   \n",
       "3                             0.417635                       -0.045543   \n",
       "4                            -0.196259                       -0.196016   \n",
       "\n",
       "   Electricity from renewables (TWh)  Low-carbon electricity (% electricity)  \\\n",
       "0                           3.159472                                1.382715   \n",
       "1                           1.192819                                0.031436   \n",
       "2                          -0.239654                                0.404731   \n",
       "3                           0.221968                               -0.574065   \n",
       "4                          -0.236921                               -0.652618   \n",
       "\n",
       "   Primary energy consumption per capita (kWh/person)  \\\n",
       "0                                          -0.254322    \n",
       "1                                           0.623102    \n",
       "2                                          -0.533735    \n",
       "3                                          -0.164452    \n",
       "4                                          -0.312828    \n",
       "\n",
       "   Energy intensity level of primary energy (MJ/$2017 PPP GDP)  gdp_growth  \\\n",
       "0                                          -0.444138              0.281251   \n",
       "1                                          -0.645034             -0.330781   \n",
       "2                                          -0.372586              0.082300   \n",
       "3                                          -0.598250             -0.100873   \n",
       "4                                          -0.697321              0.457616   \n",
       "\n",
       "   ...  Year_2010  Year_2011  Year_2012  Year_2013  Year_2014  Year_2015  \\\n",
       "0  ...  -0.231914   -0.23083  -0.228651  -0.224242  -0.232993  -0.234068   \n",
       "1  ...  -0.231914   -0.23083  -0.228651  -0.224242   4.291975  -0.234068   \n",
       "2  ...  -0.231914   -0.23083  -0.228651  -0.224242  -0.232993  -0.234068   \n",
       "3  ...  -0.231914   -0.23083  -0.228651  -0.224242  -0.232993   4.272256   \n",
       "4  ...  -0.231914   -0.23083  -0.228651  -0.224242  -0.232993  -0.234068   \n",
       "\n",
       "   Year_2016  Year_2017  Year_2018  Year_2019  \n",
       "0  -0.231914  -0.228651  -0.228651  -0.236208  \n",
       "1  -0.231914  -0.228651  -0.228651  -0.236208  \n",
       "2  -0.231914  -0.228651  -0.228651  -0.236208  \n",
       "3  -0.231914  -0.228651  -0.228651  -0.236208  \n",
       "4  -0.231914  -0.228651  -0.228651  -0.236208  \n",
       "\n",
       "[5 rows x 176 columns]"
      ]
     },
     "execution_count": 11,
     "metadata": {},
     "output_type": "execute_result"
    }
   ],
   "source": [
    "from sklearn.preprocessing import StandardScaler  \n",
    "# standardisation\n",
    "scaler = StandardScaler()\n",
    "scaler.fit(x_train)\n",
    "\n",
    "\n",
    "df_train_scaled = pd.DataFrame(scaler.transform(x_train), columns=x_train.columns)\n",
    "\n",
    "df_test = pd.DataFrame(scaler.transform(x_test), columns=x_test.columns)\n",
    "\n",
    "df_train_scaled.head()\n"
   ]
  },
  {
   "cell_type": "markdown",
   "metadata": {},
   "source": [
    "3) Comparez les performances d’un modèle de régression linéaire avec/sans sélection de variables avec/sans\n",
    "pénalisation, d’un SVM, d’un arbre optimal, d’une forêt aléatoire, du boosting, et de réseaux de neurones.\n",
    "Justifiez vos choix (par exemple le noyau pour le SVM), et ajustez soigneusement les paramètres (par\n",
    "validation croisée). Interprétez les résultats et quantifiez l’amélioration éventuelle apportée par les modèles\n",
    "non linéaires."
   ]
  },
  {
   "cell_type": "code",
   "execution_count": 12,
   "metadata": {},
   "outputs": [
    {
     "name": "stderr",
     "output_type": "stream",
     "text": [
      "/Users/hugoguilbot/anaconda3/envs/ProjetML/lib/python3.9/site-packages/sklearn/linear_model/_ridge.py:200: LinAlgWarning: Ill-conditioned matrix (rcond=7.15056e-17): result may not be accurate.\n",
      "  return linalg.solve(A, Xy, assume_a=\"pos\", overwrite_a=True).T\n",
      "/Users/hugoguilbot/anaconda3/envs/ProjetML/lib/python3.9/site-packages/sklearn/linear_model/_coordinate_descent.py:628: ConvergenceWarning: Objective did not converge. You might want to increase the number of iterations, check the scale of the features or consider increasing regularisation. Duality gap: 1.422e+12, tolerance: 1.522e+11\n",
      "  model = cd_fast.enet_coordinate_descent(\n"
     ]
    },
    {
     "data": {
      "text/plain": [
       "{'Linear Regression': 1944014314.740266,\n",
       " 'Linear Regression with RFE': 39415658254.95263,\n",
       " 'Ridge Regression': 2515066863.5183563,\n",
       " 'Lasso Regression': 1945349036.8780408}"
      ]
     },
     "execution_count": 12,
     "metadata": {},
     "output_type": "execute_result"
    }
   ],
   "source": [
    "from sklearn.feature_selection import RFE\n",
    "from sklearn.linear_model import LinearRegression, Ridge, Lasso\n",
    "from sklearn.metrics import mean_squared_error\n",
    "\n",
    "\n",
    "# Linear Regression without variable selection or penalization\n",
    "lr = LinearRegression()\n",
    "lr.fit(x_train, y_train)\n",
    "y_pred_lr = lr.predict(x_test)\n",
    "mse_lr = mean_squared_error(y_test, y_pred_lr)\n",
    "\n",
    "# Linear Regression with RFE (Recursive Feature Elimination) for variable selection\n",
    "selector = RFE(lr, n_features_to_select=5, step=1)\n",
    "selector = selector.fit(x_train, y_train)\n",
    "y_pred_rfe = selector.predict(x_test)\n",
    "mse_rfe = mean_squared_error(y_test, y_pred_rfe)\n",
    "\n",
    "# Ridge Regression (L2 penalization)\n",
    "ridge = Ridge(alpha=1.0)\n",
    "ridge.fit(x_train, y_train)\n",
    "y_pred_ridge = ridge.predict(x_test)\n",
    "mse_ridge = mean_squared_error(y_test, y_pred_ridge)\n",
    "\n",
    "# Lasso Regression (L1 penalization)\n",
    "lasso = Lasso()\n",
    "lasso.fit(x_train, y_train)\n",
    "y_pred_lasso = lasso.predict(x_test)\n",
    "mse_lasso = mean_squared_error(y_test, y_pred_lasso)\n",
    "\n",
    "# Comparing Mean Squared Error (MSE) of each model\n",
    "mse_scores = {\n",
    "    'Linear Regression': mse_lr,\n",
    "    'Linear Regression with RFE': mse_rfe,\n",
    "    'Ridge Regression': mse_ridge,\n",
    "    'Lasso Regression': mse_lasso\n",
    "}\n",
    "\n",
    "mse_scores\n"
   ]
  },
  {
   "cell_type": "code",
   "execution_count": 13,
   "metadata": {},
   "outputs": [
    {
     "name": "stderr",
     "output_type": "stream",
     "text": [
      "/Users/hugoguilbot/anaconda3/envs/ProjetML/lib/python3.9/site-packages/sklearn/linear_model/_coordinate_descent.py:628: ConvergenceWarning: Objective did not converge. You might want to increase the number of iterations, check the scale of the features or consider increasing regularisation. Duality gap: 1.106e+12, tolerance: 1.228e+11\n",
      "  model = cd_fast.enet_coordinate_descent(\n",
      "/Users/hugoguilbot/anaconda3/envs/ProjetML/lib/python3.9/site-packages/sklearn/linear_model/_coordinate_descent.py:628: ConvergenceWarning: Objective did not converge. You might want to increase the number of iterations, check the scale of the features or consider increasing regularisation. Duality gap: 1.107e+12, tolerance: 1.228e+11\n",
      "  model = cd_fast.enet_coordinate_descent(\n",
      "/Users/hugoguilbot/anaconda3/envs/ProjetML/lib/python3.9/site-packages/sklearn/linear_model/_coordinate_descent.py:628: ConvergenceWarning: Objective did not converge. You might want to increase the number of iterations, check the scale of the features or consider increasing regularisation. Duality gap: 9.936e+11, tolerance: 1.135e+11\n",
      "  model = cd_fast.enet_coordinate_descent(\n",
      "/Users/hugoguilbot/anaconda3/envs/ProjetML/lib/python3.9/site-packages/sklearn/linear_model/_coordinate_descent.py:628: ConvergenceWarning: Objective did not converge. You might want to increase the number of iterations, check the scale of the features or consider increasing regularisation. Duality gap: 9.929e+11, tolerance: 1.135e+11\n",
      "  model = cd_fast.enet_coordinate_descent(\n",
      "/Users/hugoguilbot/anaconda3/envs/ProjetML/lib/python3.9/site-packages/sklearn/linear_model/_coordinate_descent.py:628: ConvergenceWarning: Objective did not converge. You might want to increase the number of iterations, check the scale of the features or consider increasing regularisation. Duality gap: 1.005e+12, tolerance: 1.029e+11\n",
      "  model = cd_fast.enet_coordinate_descent(\n",
      "/Users/hugoguilbot/anaconda3/envs/ProjetML/lib/python3.9/site-packages/sklearn/linear_model/_coordinate_descent.py:628: ConvergenceWarning: Objective did not converge. You might want to increase the number of iterations, check the scale of the features or consider increasing regularisation. Duality gap: 1.141e+12, tolerance: 1.394e+11\n",
      "  model = cd_fast.enet_coordinate_descent(\n",
      "/Users/hugoguilbot/anaconda3/envs/ProjetML/lib/python3.9/site-packages/sklearn/linear_model/_coordinate_descent.py:628: ConvergenceWarning: Objective did not converge. You might want to increase the number of iterations, check the scale of the features or consider increasing regularisation. Duality gap: 1.004e+12, tolerance: 1.029e+11\n",
      "  model = cd_fast.enet_coordinate_descent(\n",
      "/Users/hugoguilbot/anaconda3/envs/ProjetML/lib/python3.9/site-packages/sklearn/linear_model/_coordinate_descent.py:628: ConvergenceWarning: Objective did not converge. You might want to increase the number of iterations, check the scale of the features or consider increasing regularisation. Duality gap: 1.116e+12, tolerance: 1.300e+11\n",
      "  model = cd_fast.enet_coordinate_descent(\n",
      "/Users/hugoguilbot/anaconda3/envs/ProjetML/lib/python3.9/site-packages/sklearn/linear_model/_coordinate_descent.py:628: ConvergenceWarning: Objective did not converge. You might want to increase the number of iterations, check the scale of the features or consider increasing regularisation. Duality gap: 1.115e+12, tolerance: 1.300e+11\n",
      "  model = cd_fast.enet_coordinate_descent(\n",
      "/Users/hugoguilbot/anaconda3/envs/ProjetML/lib/python3.9/site-packages/sklearn/linear_model/_coordinate_descent.py:628: ConvergenceWarning: Objective did not converge. You might want to increase the number of iterations, check the scale of the features or consider increasing regularisation. Duality gap: 1.006e+12, tolerance: 1.029e+11\n",
      "  model = cd_fast.enet_coordinate_descent(\n",
      "/Users/hugoguilbot/anaconda3/envs/ProjetML/lib/python3.9/site-packages/sklearn/linear_model/_coordinate_descent.py:628: ConvergenceWarning: Objective did not converge. You might want to increase the number of iterations, check the scale of the features or consider increasing regularisation. Duality gap: 1.141e+12, tolerance: 1.394e+11\n",
      "  model = cd_fast.enet_coordinate_descent(\n",
      "/Users/hugoguilbot/anaconda3/envs/ProjetML/lib/python3.9/site-packages/sklearn/linear_model/_coordinate_descent.py:628: ConvergenceWarning: Objective did not converge. You might want to increase the number of iterations, check the scale of the features or consider increasing regularisation. Duality gap: 1.117e+12, tolerance: 1.300e+11\n",
      "  model = cd_fast.enet_coordinate_descent(\n",
      "/Users/hugoguilbot/anaconda3/envs/ProjetML/lib/python3.9/site-packages/sklearn/linear_model/_coordinate_descent.py:628: ConvergenceWarning: Objective did not converge. You might want to increase the number of iterations, check the scale of the features or consider increasing regularisation. Duality gap: 1.143e+12, tolerance: 1.394e+11\n",
      "  model = cd_fast.enet_coordinate_descent(\n",
      "/Users/hugoguilbot/anaconda3/envs/ProjetML/lib/python3.9/site-packages/sklearn/linear_model/_coordinate_descent.py:628: ConvergenceWarning: Objective did not converge. You might want to increase the number of iterations, check the scale of the features or consider increasing regularisation. Duality gap: 1.120e+12, tolerance: 1.300e+11\n",
      "  model = cd_fast.enet_coordinate_descent(\n",
      "/Users/hugoguilbot/anaconda3/envs/ProjetML/lib/python3.9/site-packages/sklearn/linear_model/_coordinate_descent.py:628: ConvergenceWarning: Objective did not converge. You might want to increase the number of iterations, check the scale of the features or consider increasing regularisation. Duality gap: 1.108e+12, tolerance: 1.228e+11\n",
      "  model = cd_fast.enet_coordinate_descent(\n",
      "/Users/hugoguilbot/anaconda3/envs/ProjetML/lib/python3.9/site-packages/sklearn/linear_model/_coordinate_descent.py:628: ConvergenceWarning: Objective did not converge. You might want to increase the number of iterations, check the scale of the features or consider increasing regularisation. Duality gap: 9.948e+11, tolerance: 1.135e+11\n",
      "  model = cd_fast.enet_coordinate_descent(\n",
      "/Users/hugoguilbot/anaconda3/envs/ProjetML/lib/python3.9/site-packages/sklearn/linear_model/_coordinate_descent.py:628: ConvergenceWarning: Objective did not converge. You might want to increase the number of iterations, check the scale of the features or consider increasing regularisation. Duality gap: 1.144e+12, tolerance: 1.394e+11\n",
      "  model = cd_fast.enet_coordinate_descent(\n",
      "/Users/hugoguilbot/anaconda3/envs/ProjetML/lib/python3.9/site-packages/sklearn/linear_model/_coordinate_descent.py:628: ConvergenceWarning: Objective did not converge. You might want to increase the number of iterations, check the scale of the features or consider increasing regularisation. Duality gap: 1.008e+12, tolerance: 1.029e+11\n",
      "  model = cd_fast.enet_coordinate_descent(\n",
      "/Users/hugoguilbot/anaconda3/envs/ProjetML/lib/python3.9/site-packages/sklearn/linear_model/_coordinate_descent.py:628: ConvergenceWarning: Objective did not converge. You might want to increase the number of iterations, check the scale of the features or consider increasing regularisation. Duality gap: 1.118e+12, tolerance: 1.300e+11\n",
      "  model = cd_fast.enet_coordinate_descent(\n",
      "/Users/hugoguilbot/anaconda3/envs/ProjetML/lib/python3.9/site-packages/sklearn/linear_model/_coordinate_descent.py:628: ConvergenceWarning: Objective did not converge. You might want to increase the number of iterations, check the scale of the features or consider increasing regularisation. Duality gap: 9.961e+11, tolerance: 1.135e+11\n",
      "  model = cd_fast.enet_coordinate_descent(\n",
      "/Users/hugoguilbot/anaconda3/envs/ProjetML/lib/python3.9/site-packages/sklearn/linear_model/_coordinate_descent.py:628: ConvergenceWarning: Objective did not converge. You might want to increase the number of iterations, check the scale of the features or consider increasing regularisation. Duality gap: 1.110e+12, tolerance: 1.228e+11\n",
      "  model = cd_fast.enet_coordinate_descent(\n",
      "/Users/hugoguilbot/anaconda3/envs/ProjetML/lib/python3.9/site-packages/sklearn/linear_model/_coordinate_descent.py:628: ConvergenceWarning: Objective did not converge. You might want to increase the number of iterations, check the scale of the features or consider increasing regularisation. Duality gap: 1.009e+12, tolerance: 1.029e+11\n",
      "  model = cd_fast.enet_coordinate_descent(\n",
      "/Users/hugoguilbot/anaconda3/envs/ProjetML/lib/python3.9/site-packages/sklearn/linear_model/_coordinate_descent.py:628: ConvergenceWarning: Objective did not converge. You might want to increase the number of iterations, check the scale of the features or consider increasing regularisation. Duality gap: 9.973e+11, tolerance: 1.135e+11\n",
      "  model = cd_fast.enet_coordinate_descent(\n",
      "/Users/hugoguilbot/anaconda3/envs/ProjetML/lib/python3.9/site-packages/sklearn/linear_model/_coordinate_descent.py:628: ConvergenceWarning: Objective did not converge. You might want to increase the number of iterations, check the scale of the features or consider increasing regularisation. Duality gap: 1.145e+12, tolerance: 1.394e+11\n",
      "  model = cd_fast.enet_coordinate_descent(\n",
      "/Users/hugoguilbot/anaconda3/envs/ProjetML/lib/python3.9/site-packages/sklearn/linear_model/_coordinate_descent.py:628: ConvergenceWarning: Objective did not converge. You might want to increase the number of iterations, check the scale of the features or consider increasing regularisation. Duality gap: 1.111e+12, tolerance: 1.228e+11\n",
      "  model = cd_fast.enet_coordinate_descent(\n",
      "/Users/hugoguilbot/anaconda3/envs/ProjetML/lib/python3.9/site-packages/sklearn/linear_model/_coordinate_descent.py:628: ConvergenceWarning: Objective did not converge. You might want to increase the number of iterations, check the scale of the features or consider increasing regularisation. Duality gap: 1.121e+12, tolerance: 1.300e+11\n",
      "  model = cd_fast.enet_coordinate_descent(\n",
      "/Users/hugoguilbot/anaconda3/envs/ProjetML/lib/python3.9/site-packages/sklearn/linear_model/_coordinate_descent.py:628: ConvergenceWarning: Objective did not converge. You might want to increase the number of iterations, check the scale of the features or consider increasing regularisation. Duality gap: 1.146e+12, tolerance: 1.394e+11\n",
      "  model = cd_fast.enet_coordinate_descent(\n",
      "/Users/hugoguilbot/anaconda3/envs/ProjetML/lib/python3.9/site-packages/sklearn/linear_model/_coordinate_descent.py:628: ConvergenceWarning: Objective did not converge. You might want to increase the number of iterations, check the scale of the features or consider increasing regularisation. Duality gap: 1.016e+12, tolerance: 1.029e+11\n",
      "  model = cd_fast.enet_coordinate_descent(\n",
      "/Users/hugoguilbot/anaconda3/envs/ProjetML/lib/python3.9/site-packages/sklearn/linear_model/_coordinate_descent.py:628: ConvergenceWarning: Objective did not converge. You might want to increase the number of iterations, check the scale of the features or consider increasing regularisation. Duality gap: 1.010e+12, tolerance: 1.029e+11\n",
      "  model = cd_fast.enet_coordinate_descent(\n",
      "/Users/hugoguilbot/anaconda3/envs/ProjetML/lib/python3.9/site-packages/sklearn/linear_model/_coordinate_descent.py:628: ConvergenceWarning: Objective did not converge. You might want to increase the number of iterations, check the scale of the features or consider increasing regularisation. Duality gap: 1.152e+12, tolerance: 1.394e+11\n",
      "  model = cd_fast.enet_coordinate_descent(\n",
      "/Users/hugoguilbot/anaconda3/envs/ProjetML/lib/python3.9/site-packages/sklearn/linear_model/_coordinate_descent.py:628: ConvergenceWarning: Objective did not converge. You might want to increase the number of iterations, check the scale of the features or consider increasing regularisation. Duality gap: 9.985e+11, tolerance: 1.135e+11\n",
      "  model = cd_fast.enet_coordinate_descent(\n",
      "/Users/hugoguilbot/anaconda3/envs/ProjetML/lib/python3.9/site-packages/sklearn/linear_model/_coordinate_descent.py:628: ConvergenceWarning: Objective did not converge. You might want to increase the number of iterations, check the scale of the features or consider increasing regularisation. Duality gap: 1.112e+12, tolerance: 1.228e+11\n",
      "  model = cd_fast.enet_coordinate_descent(\n",
      "/Users/hugoguilbot/anaconda3/envs/ProjetML/lib/python3.9/site-packages/sklearn/linear_model/_coordinate_descent.py:628: ConvergenceWarning: Objective did not converge. You might want to increase the number of iterations, check the scale of the features or consider increasing regularisation. Duality gap: 1.127e+12, tolerance: 1.300e+11\n",
      "  model = cd_fast.enet_coordinate_descent(\n",
      "/Users/hugoguilbot/anaconda3/envs/ProjetML/lib/python3.9/site-packages/sklearn/linear_model/_coordinate_descent.py:628: ConvergenceWarning: Objective did not converge. You might want to increase the number of iterations, check the scale of the features or consider increasing regularisation. Duality gap: 1.004e+12, tolerance: 1.135e+11\n",
      "  model = cd_fast.enet_coordinate_descent(\n",
      "/Users/hugoguilbot/anaconda3/envs/ProjetML/lib/python3.9/site-packages/sklearn/linear_model/_coordinate_descent.py:628: ConvergenceWarning: Objective did not converge. You might want to increase the number of iterations, check the scale of the features or consider increasing regularisation. Duality gap: 1.118e+12, tolerance: 1.228e+11\n",
      "  model = cd_fast.enet_coordinate_descent(\n"
     ]
    },
    {
     "name": "stdout",
     "output_type": "stream",
     "text": [
      "Meilleur R2 = 0.9968214198792257, Meilleur paramètre = 0.05\n"
     ]
    },
    {
     "name": "stderr",
     "output_type": "stream",
     "text": [
      "/Users/hugoguilbot/anaconda3/envs/ProjetML/lib/python3.9/site-packages/sklearn/linear_model/_coordinate_descent.py:628: ConvergenceWarning: Objective did not converge. You might want to increase the number of iterations, check the scale of the features or consider increasing regularisation. Duality gap: 1.407e+12, tolerance: 1.522e+11\n",
      "  model = cd_fast.enet_coordinate_descent(\n"
     ]
    }
   ],
   "source": [
    "from sklearn import linear_model\n",
    "from sklearn.model_selection import GridSearchCV\n",
    "\n",
    "# Grille de valeurs du paramètre alpha à optimiser pour la régression Lasso\n",
    "param_grid = {\"alpha\": [0.05, 0.1, 0.2, 0.3, 0.4, 0.5, 1]}\n",
    "\n",
    "# Initialisation de GridSearchCV avec le modèle Lasso\n",
    "lasso_search = GridSearchCV(linear_model.Lasso(), param_grid, cv=5, n_jobs=-1)\n",
    "\n",
    "# Entraînement avec GridSearchCV pour trouver les meilleurs paramètres\n",
    "lasso_opt = lasso_search.fit(x_train, y_train)  # Assurez-vous que X_train, y_train sont définis\n",
    "\n",
    "# Affichage des meilleurs paramètres et du meilleur score R2\n",
    "best_alpha = lasso_opt.best_params_[\"alpha\"]\n",
    "best_score = lasso_opt.best_score_\n",
    "\n",
    "print(f\"Meilleur R2 = {best_score}, Meilleur paramètre = {best_alpha}\")"
   ]
  },
  {
   "cell_type": "code",
   "execution_count": 14,
   "metadata": {},
   "outputs": [
    {
     "name": "stdout",
     "output_type": "stream",
     "text": [
      "MSE= 1944068501.332707\n",
      "R2= 0.997268904310444\n"
     ]
    }
   ],
   "source": [
    "from sklearn.metrics import r2_score\n",
    "\n",
    "prev=lasso_opt.predict(x_test)\n",
    "print(\"MSE=\",mean_squared_error(prev,y_test))\n",
    "print(\"R2=\",r2_score(y_test,prev))\n"
   ]
  },
  {
   "cell_type": "code",
   "execution_count": 15,
   "metadata": {},
   "outputs": [
    {
     "data": {
      "application/vnd.plotly.v1+json": {
       "config": {
        "plotlyServerURL": "https://plot.ly"
       },
       "data": [
        {
         "hovertemplate": "CO2 prédit=%{x}<br>CO2 observée=%{y}<extra></extra>",
         "legendgroup": "",
         "marker": {
          "color": "#636efa",
          "symbol": "circle"
         },
         "mode": "markers",
         "name": "",
         "orientation": "v",
         "showlegend": false,
         "type": "scatter",
         "x": [
          12110.153310161324,
          -3555.6561946182046,
          -503.02133685623267,
          6763.518547828135,
          6168.185676783491,
          -1632.0141565477606,
          7865.128236257013,
          7464.6906858275615,
          18620.490673206223,
          30501.94359130293,
          330126.34028257173,
          5253987.27943192,
          4135.72809781156,
          34519.42554492688,
          2536.540161350378,
          3184.047763643357,
          -2026.8519099572877,
          14571.329822679516,
          121813.62056693324,
          27590.58859269999,
          6771.92766641661,
          -8897.1623555224,
          2637.6235188405117,
          6392.364189750173,
          43513.040960116065,
          3358.4879133967916,
          41584.28391030851,
          25303.771462606586,
          5013.908717525606,
          75443.10620354654,
          13673.000168439423,
          25205.494342093676,
          405196.7608933607,
          2885.3822708818334,
          -1622.5768257377858,
          4608.166821938423,
          1439.3933554989853,
          258494.31944406845,
          33778.272309583714,
          32028.50054924612,
          96720.04268158978,
          -4352.049049506713,
          10731.607351791856,
          51825.47225631625,
          -4314.784675123308,
          -1963.682217581576,
          6658.324157210547,
          8198.007194259924,
          81459.12150734023,
          23042.253407602824,
          23494.01179042319,
          5685.399636013019,
          62092.66963837833,
          54279.319111537596,
          76893.26620683364,
          2876.7827199233143,
          12990.427372733553,
          31489.60298453254,
          151843.14194112262,
          22366.79595128706,
          9138.515763729127,
          54733.980396452156,
          4951.8028879595295,
          1380.1362043626286,
          2893.6467205858644,
          298206.68364018295,
          -4111.324302251465,
          8032.910869020103,
          6185.506903900474,
          49891.75654303662,
          192357.0499554023,
          -494.96822819115187,
          2697.944585805053,
          4254.764327791418,
          -937.193474769847,
          2671.5726167792673,
          245549.30430225728,
          9607.188906561074,
          301736.5928364863,
          501437.9610618551,
          167.6543165215553,
          -2226.61749100258,
          7216.429403575072,
          125363.12811186147,
          110795.41179582782,
          5979.404317487839,
          17637.995171099858,
          8601.952929702195,
          63608.745323121315,
          65826.7346766622,
          11892.478527084502,
          97480.81653999383,
          604152.8199109746,
          89854.2996879498,
          -4355.775651921045,
          30714.24630892274,
          118951.32381966541,
          1491.4442753044132,
          8660.705658700943,
          -2858.0174715651956,
          20013.38032570228,
          4058.0700314010246,
          -2158.945943973922,
          163665.06574930882,
          5757768.416283029,
          15853.434526146739,
          6897.583827420036,
          -134.2820224109746,
          1067654.1864787857,
          25641.65376702405,
          600955.5555028184,
          56651.477887129426,
          71849.76309413688,
          594434.30505624,
          371183.2293608424,
          16875.03657598851,
          131929.76427250594,
          18508.787981635964,
          53529.60005119965,
          95498.76936540968,
          -761.4724148326786,
          96357.9104025345,
          33824.76507574157,
          893.5750214995933,
          279.2703268561527,
          58392.73948262929,
          -40.67670734705462,
          -2242.291297751901,
          47433.38511815744,
          10379.680364432337,
          5638.424120805139,
          89572.97888080048,
          7127.847657379367,
          343061.30687314854,
          9549.314328747212,
          7313.989109891605,
          10086.533752829942,
          60533.32589174084,
          303088.2526730994,
          750.1288526619683,
          35265.443789207624,
          12449.995222741469,
          2922.037798559315,
          42473.01898332342,
          -827.8981312935357,
          -14256.854381013334,
          96976.91855578401,
          8319.685216450802,
          8057685.992315435,
          129132.44367826555,
          -2613.163145639832,
          -3354.4992175786538,
          14318.890386439176,
          3475.677607989739,
          381546.08726229065,
          2336.589994052105,
          40565.836472578885,
          -280.44145115876745,
          1172.8567112415549,
          4631.17213318649,
          -20234.1853600394,
          8188.193662150814,
          385699.2236315444,
          15691.129752506058,
          1245.5622927089862,
          267990.66931348667,
          11638.998595995348,
          6229.096461476751,
          15399.234796835939,
          21779.975690513864,
          -2870.324661932689,
          4962712.37339097,
          17421.127151508714,
          90835.16920357049,
          66400.79345485014,
          4604.252362773193,
          191082.04683375589,
          334249.2759151405,
          77199.61436579592,
          9517.72092569583,
          5053.377536651635,
          144737.6003029805,
          44528.51339295454,
          288754.0181013363,
          310587.19118178566,
          17716.15212493125,
          54458.57145400671,
          42919.75522413396,
          33376.66174050157,
          16326.910570448257,
          8971.09934314285,
          -2635.313812387052,
          48613.73875574452,
          303801.93974084,
          70195.48363603128,
          4930.634715859109,
          -2744.092946343655,
          380726.65392221673,
          32736.790371128038,
          -133.65970495400688,
          410.20533752781193,
          12023.850173918523,
          6646.483935742173,
          66690.85408148836,
          -121.58767921925028,
          9845.688494730159,
          64552.772892942754,
          5247979.114317461,
          288522.8609016406,
          44463.61067248513,
          3823.3510826086786,
          5459.444412039338,
          43979.877667021414,
          1051499.1768861995,
          300.2052424989088,
          39001.66745178265,
          1540.9692195662574,
          5141.38081233298,
          40617.456229648174,
          44914.958311262875,
          16151.546161816455,
          190463.42751031564,
          53594.937832314885,
          9406.1170748164,
          -7115.640742521136,
          3757.0326928119684,
          7408.757821334708,
          14092.652738004974,
          9583.54709360667,
          2427.3343215312343,
          94106.25391595918,
          6931.095816467634,
          2860.393031548614,
          20346.50358086834,
          1623.3516682540649,
          56243.466825756,
          2777.251689331053,
          287.116836485824,
          32023.624368682445,
          32993.92167861134,
          187910.1185281683,
          -11707.950236878769,
          10517.081305622749,
          428033.7372033382,
          2143.105776341443,
          279833.00065411767,
          332196.77010531456,
          169751.52463995243,
          10505.766923424257,
          3406.9242619757933,
          100901.27739949082,
          131009.41901838608,
          -3603.2459488440218,
          -2188.285861545497,
          -960.4616423785628,
          34182.11479801989,
          98924.40507000033,
          4567.558373835993,
          -10465.365836408186,
          8698.442395737598,
          21128.00076066226,
          20962.598188829805,
          25451.92629020181,
          3474.9432120470083,
          4822.913594819627,
          -320.89947995865805,
          14883.563649197029,
          -1817.4612670507122,
          -831.9355234827744,
          10742.996652748167,
          583.0378113605766,
          2437.5110757681614,
          54007.988936128866,
          65328.02583406435,
          6677.247913599,
          24267.239294569285,
          22093.05968297836,
          4453.4737298793625,
          44811.848920446544,
          -1378.388501160458,
          11535.037623624936,
          10796.354583709639,
          7710.556148716954,
          13042.688376678372,
          4772.8210701501885,
          12240.642182384247,
          350697.7710303068,
          44610.635010786515,
          5889.103824953978,
          54323.90374257283,
          9692.075428083059,
          7620.81025660476,
          2058.4048907984106,
          69518.37239054983,
          2293.070527923119,
          5347.2441733510495,
          291866.13387487375,
          911729.6612201454,
          76510.3672040676,
          5996.498839142274,
          52279.542753631686,
          361.17180520421243,
          870618.2162189855,
          800.5850881310689,
          27924.082781942183,
          46702.50898548725,
          -8242.67430140861,
          14837.306746822593,
          91148.25929108987,
          434281.1051822364,
          116731.91436668122,
          62131.73344206951,
          952.2839608957293,
          5543158.261483782,
          86739.91145515293,
          330769.4679881091,
          25309.37682447782,
          9282.739566322976,
          380439.8876645152,
          18791.96228515097,
          294708.61937989504,
          3729.204821141153,
          84972.59779686098,
          28146.00274909468,
          1193.8342932172818,
          44194.16332301774,
          21255.2126929133,
          39716.09377597281,
          426417.95811102213,
          7283.085875268087,
          -4763.26664034697,
          431686.51778298896,
          8137.5228421309,
          79607.73580126686,
          550969.8741893664,
          5782.066421664109,
          68961.34653534119,
          10930.038082036022,
          6864.9318578992825,
          3129.9434444944054,
          84014.50923404691,
          -2981.0138040545935,
          73294.75169322235,
          318271.9089858318,
          8476.074649748916,
          874.9438567443794,
          9799.341252927894,
          209632.18909858938,
          2453728.4659057176,
          19015.14163463487,
          2097.4774976480476,
          51924.90534999057,
          108636.40632257043,
          5279793.7787862485,
          5542.809270417158,
          20725.30613968998,
          -2490.4636537432816,
          2018.018361140821,
          84162.0066125911,
          2637.5372403650326,
          257455.71880801723,
          7402244.167194442,
          25331.75072626093,
          10017.79618650282,
          132494.4416740733,
          31023.285058491063,
          7404.993843306627,
          5198.227604816355,
          72804.04851061584,
          3287.9447986064333,
          13581.83822332717,
          73074.85530402012,
          -9739.679469359278,
          -1395.3687553632553,
          -475.433922902208,
          3381.3250559898443,
          391802.226644479,
          9150.136743375027,
          30994.81572199428,
          -11810.257596238218,
          10485.02565906466,
          6458.334206962856,
          -9185.04234129109,
          7053.1349717967605,
          5337579.015415197,
          42996.79610807245,
          78967.76963384211,
          2811.3029295575834,
          1678677.601602739,
          66260.78529119803,
          12128.491533812798,
          4168.971770605283,
          39833.38165318027,
          278604.76203692146,
          16565.176196739165,
          627078.6644760964,
          -1585.790183269608,
          64282.49219428064,
          10212.006480278069,
          3966.9501544000886,
          3304.0756885749943,
          239355.55961548,
          89648.67703789845,
          53570.62671803482,
          -3029.6636673795074,
          162487.95732359999,
          1112.8003982891241,
          -15203.803311080625,
          4863651.629623905,
          108950.09070217944,
          9627.248168153244,
          47991.57230881414,
          50190.4936871987,
          12870.259255711579,
          32900.64631135226,
          1584.7981554923826,
          18239.60740783842,
          32015.925761058388,
          -18114.83793319245,
          9312.546895921769,
          9618.755423528753,
          6378.479062245613,
          -2442.6507110450766,
          10727.912626658836,
          28393.17030447352,
          3431.2919801991156,
          6775.125883959598,
          414859.3898906724,
          -2442.9061698985897,
          1994.2556922840304,
          2544.697930830662,
          -956.6337466766927,
          78921.73496308493,
          356279.69192576583,
          3775.4487580819696,
          29605.830630261902,
          1009.9392284819478,
          33758.841401274796,
          40808.16642407009,
          40548.36086691791,
          2703.2652846868004,
          285220.74517195125,
          -487.7359942875046,
          241906.5622234984,
          4018.0144456697963,
          43319.807114222946,
          1352.3731951382433,
          836.5861598812262,
          1235.4769470924584,
          63798.20260187345,
          6594.0752442378725,
          2224472.1498952606,
          3269.0205099691375,
          10908.746292041164,
          4307.063760996309,
          5033101.31745176,
          313.0005558929406,
          265065.8991434043,
          996.9147598960335,
          309909.3902206273,
          -13729.791063799796,
          26082.235638765807,
          54116.05640912161,
          2880.1443523728085,
          10431.865125281845,
          112605.62821242947,
          -8538.963139297586,
          10574.078535349363,
          -3775.3101072154896,
          5085.354229453849,
          55522.10657617732,
          20559.082779235032,
          -4651.922240160522,
          19146.682655695426,
          4444.383012791499,
          1007.3612611527715,
          -1201.6190929969453,
          457746.9703238681,
          10070.072706699888,
          6973.390686862178,
          38572.902514551824,
          9374.818471080886,
          79537.99897594136,
          19690.971948573148,
          41484.71529027358,
          667452.4550310097,
          -4443.908003287572,
          8488.931577143092,
          46899.634640859935,
          2211.717707464639,
          230485.6397817779,
          13235.267916930083,
          -9188.10170851399,
          9731.831185505369,
          116536.408420594,
          -6740.570829966084,
          199153.24552626433,
          201519.75397678316,
          -8357.308764431153,
          4823.946003998004,
          5422.0708500787805,
          37746.86854930177,
          45127.03598657515,
          39613.32618755044,
          17608.076372647723,
          5015.802203642765,
          127.62178621299972,
          15186.675612055587,
          1191.0147306307044,
          1683.671981179221,
          -5808.830851794512,
          394740.5277605618,
          12560.141009988583,
          36262.10240946167,
          396102.92029953795,
          2597137.7824096484,
          18800.47986983905,
          12650.767004491994,
          375.47976570952596,
          1010845.3907247244,
          175743.2612702398,
          104700.4367785191,
          8368.587649446454,
          50666.55099028694,
          208.0314448356803,
          6439.032711634682,
          -58.1098006286702,
          3158.0081587546665,
          -12553.003982832211,
          74839.85369213468,
          53597.91735586175,
          11638.125868081697,
          21923.852638291406,
          -3652.6678646966393,
          2561.3346233693665,
          5685.9566500447545,
          7.4289064681652235,
          11877.735295702376,
          4628.018078664834,
          1303.6179195305886,
          16476.14515375038,
          499.0341056828256,
          -2531.039984291201,
          1484.603462746476,
          302140.58193484903,
          6000.575138191809,
          5502.073782181404,
          7972.208697300586,
          82934.601672902,
          7573.080189293505,
          -3681.692407361945,
          8506.33983062303,
          68661.6308242683,
          34674.49686415716
         ],
         "xaxis": "x",
         "y": [
          8130.000114,
          4699.999809,
          769.9999809,
          180.0000072,
          4579.999924,
          660.0000262,
          3970.000029,
          9729.999542,
          21570,
          23590.00015,
          397929.9927,
          5092100.098,
          250,
          57950,
          13960.00004,
          959.9999785,
          649.9999762,
          7039.999962,
          120790.0009,
          26180.00031,
          2079.999924,
          11069.99969,
          280.0000012,
          2130.000114,
          53040.00092,
          2210.000038,
          38819.99969,
          32880,
          3190.000057,
          67910,
          7300.000191,
          6949.999809,
          388940.0024,
          9430.000305,
          1379.999995,
          5039.999962,
          270.0000107,
          234380.0049,
          38779.99878,
          26690.00053,
          112169.9982,
          189.9999976,
          5690,
          49369.99893,
          39.99999911,
          129.9999952,
          1269.999981,
          610.0000143,
          55200.00076,
          34290,
          23780.00069,
          6530.00021,
          52500,
          57650.00153,
          72870.00275,
          8930.000305,
          2180.000067,
          28569.99969,
          157089.9963,
          17010.00023,
          3779.999971,
          56659.99985,
          4090.000153,
          1279.999971,
          260,
          311910.0037,
          290,
          15449.99981,
          4320.000172,
          47930.00031,
          171250,
          1240.00001,
          4079.999924,
          250,
          340.0000036,
          1270,
          177119.9951,
          7139.999866,
          350000,
          486450.0122,
          9819.999695,
          910.0000262,
          6559.999943,
          113139.9994,
          115279.9988,
          7420.000076,
          10510,
          11659.99985,
          53840.00015,
          65110.00061,
          15510.00023,
          100220.0012,
          545260,
          76949.99695,
          349.999994,
          23799.99924,
          111010.0021,
          1720.000029,
          2000,
          2430,
          21100.00038,
          409.9999964,
          2190.000057,
          167229.9957,
          5753490.234,
          18170.00008,
          3410.000086,
          670.0000167,
          985450.0122,
          43020.00046,
          530789.978,
          60000,
          82959.99908,
          549030.0293,
          357989.9902,
          15569.99969,
          109529.9988,
          14609.99966,
          55119.99893,
          81849.99847,
          629.9999952,
          99260.00214,
          31290.00092,
          5219.99979,
          790.0000215,
          56040.00092,
          1049.999952,
          129.9999952,
          39120,
          10489.99977,
          2509.99999,
          75599.99847,
          11909.99985,
          331320.0073,
          159.9999964,
          5630.000114,
          12380.00011,
          65730.00336,
          379180,
          2410.000086,
          32240.00168,
          4880.000114,
          680.0000072,
          45000,
          319.9999928,
          70.0000003,
          96610,
          1650,
          8474919.922,
          104870.0027,
          829.9999833,
          2319.999933,
          9829.999924,
          3220.000029,
          353089.9963,
          250,
          41799.99924,
          2009.99999,
          129.9999952,
          330.0000131,
          330,
          8199.999809,
          365809.9976,
          10699.99981,
          6809.999943,
          324880.0049,
          4469.99979,
          1970.000029,
          7900.000095,
          37720.00122,
          2650.000095,
          4894500,
          19579.99992,
          95230,
          60529.99878,
          579.9999833,
          242809.9976,
          339450,
          59229.99954,
          1490.00001,
          7969.99979,
          138570.0073,
          39790.00092,
          299799.9878,
          308329.9866,
          19040.00092,
          62049.99924,
          72100,
          34369.99893,
          39189.99863,
          1430,
          379.9999952,
          54270.00046,
          318660.0037,
          61090,
          7550.000191,
          3750,
          362829.9866,
          27729.99954,
          200.000003,
          1379.999995,
          230,
          7789.999962,
          95129.99725,
          1360.000014,
          7360.000134,
          76669.99817,
          5107209.961,
          269269.989,
          41310.00137,
          6280.00021,
          509.9999905,
          40759.99832,
          1206599.976,
          289.9999917,
          43580.00183,
          569.9999928,
          4119.999886,
          39959.99908,
          48630.00107,
          13960,
          175589.9963,
          55459.99908,
          2589.999914,
          10200,
          479.9999893,
          3109.999895,
          11409.99985,
          7429.999828,
          3970.000029,
          96730.00336,
          5300.000191,
          3920.000076,
          2519.999981,
          550.0000119,
          58549.99924,
          639.9999857,
          319.9999928,
          31959.99908,
          30110.00061,
          171110.0006,
          2210.000038,
          6460.000038,
          453760.0098,
          70.0000003,
          257049.9878,
          312750,
          165220.0012,
          10390.00034,
          170.0000018,
          84779.99878,
          99169.99817,
          9590.000153,
          39.99999911,
          1259.99999,
          31690.00053,
          95000,
          8699.999809,
          2380.000114,
          10539.99996,
          25629.99916,
          25360.00061,
          23069.99969,
          2579.999924,
          1450.000048,
          9989.999771,
          9289.999962,
          5710.000038,
          2190.000057,
          20700,
          2420.000076,
          6199.999809,
          46470.00122,
          58340,
          12479.99954,
          22340.00015,
          38759.99832,
          2490.00001,
          31620,
          699.9999881,
          9760.000229,
          9220.000267,
          9440,
          15090.00015,
          3759.99999,
          189.9999976,
          386000,
          47259.99832,
          8760,
          54549.99924,
          6630.000114,
          6639.999866,
          610.0000143,
          58950.00076,
          310.0000024,
          2789.999962,
          312140.0146,
          821070.0073,
          57669.99817,
          3019.999981,
          48220.00122,
          150.000006,
          789690.0024,
          519.9999809,
          27690,
          46439.99863,
          1029.999971,
          12810.00042,
          81660.00366,
          426779.9988,
          106720.0012,
          48900.00153,
          2660.000086,
          5824629.883,
          83290.00092,
          433989.9902,
          34740.00168,
          1629.999995,
          389160.0037,
          6210,
          297260.0098,
          970.0000286,
          70129.99725,
          40709.99908,
          4230.000019,
          39599.99847,
          1149.999976,
          35509.99832,
          436920.0134,
          5460,
          17239.99977,
          426739.9902,
          7570.000172,
          67000,
          466489.9902,
          2619.999886,
          75150.00153,
          2059.999943,
          2990.00001,
          4030.00021,
          66139.99939,
          660.0000262,
          77650.00153,
          313380.0049,
          9779.999733,
          5780.00021,
          7190.000057,
          174940.0024,
          2320409.912,
          12149.99962,
          310.0000024,
          57400.00153,
          91550.00305,
          5775810,
          460.0000083,
          37590.00015,
          200.000003,
          4510.000229,
          72129.99725,
          5199.999809,
          273250,
          7719069.824,
          31190.00053,
          3690.000057,
          121959.9991,
          30129.99916,
          10689.99958,
          8829.999924,
          70730.00336,
          150.000006,
          15920.00008,
          69959.99908,
          3770,
          4559.999943,
          2769.999981,
          159.9999964,
          377790.0085,
          5800.000191,
          32279.99878,
          79.99999821,
          6380.000114,
          6170.000076,
          3740.00001,
          3390,
          4956060.059,
          40630.00107,
          87630,
          6329.999924,
          1756739.99,
          80050,
          12289.99996,
          159.9999964,
          39080.00183,
          346459.9915,
          20170.00008,
          543039.978,
          8539.999962,
          93660.00366,
          3690.000057,
          1179.999948,
          6670.000076,
          367000,
          96589.99634,
          69099.99847,
          189.9999976,
          167220.0012,
          400.000006,
          79.99999821,
          4975310.059,
          100410.0037,
          4489.999771,
          41409.99985,
          48119.99893,
          17229.99954,
          32840.00015,
          1240.00001,
          22479.99954,
          42880.00107,
          11850.00038,
          7090.000153,
          7000,
          180.0000072,
          200.000003,
          3490.00001,
          22040.00092,
          1639.999986,
          10149.99962,
          395290.0085,
          2269.999981,
          5070.000172,
          1389.999986,
          350,
          87580.00183,
          347779.9988,
          5480.000019,
          30450.00076,
          3880.000114,
          30940.00053,
          30489.99977,
          46650.00153,
          1710.000038,
          303989.9902,
          930.0000072,
          201080.0018,
          3039.999962,
          48750,
          3180.000067,
          170.0000018,
          1529.999971,
          75139.99939,
          170.0000018,
          2158020.02,
          5179.999828,
          15779.99973,
          3279.999971,
          5124819.824,
          4769.999981,
          303940.0024,
          750,
          313920.0134,
          109.9999994,
          16709.99908,
          53409.99985,
          3559.999943,
          1809.999943,
          108650.0015,
          3359.999895,
          17010.00023,
          1389.999986,
          980.0000191,
          56779.99878,
          7750,
          2460.000038,
          17409.99985,
          5630.000114,
          119.9999973,
          7010.000229,
          580090.0269,
          1860.000014,
          4030.00021,
          63159.99985,
          13900,
          103819.9997,
          1039.999962,
          49409.99985,
          747150.0244,
          730.0000191,
          11390.00034,
          52700.00076,
          4269.999981,
          327500,
          21709.99908,
          3660.000086,
          219.9999988,
          92650.00153,
          4750,
          184470.0012,
          174559.9976,
          90,
          1779.999971,
          280.0000012,
          32110.00061,
          44840.00015,
          61009.99832,
          20680.00031,
          189.9999976,
          419.9999869,
          12060.00042,
          2690.000057,
          469.9999988,
          819.9999928,
          456489.9902,
          12409.99985,
          39810.00137,
          371549.9878,
          2451929.932,
          29760.00023,
          17590.00015,
          3640.000105,
          953540,
          176639.9994,
          132270,
          5190.000057,
          45479.99954,
          8320,
          12340.00015,
          1120.000005,
          6420.000076,
          129.9999952,
          66389.99939,
          74989.99786,
          7420.000076,
          20010.00023,
          550.0000119,
          319.9999928,
          2960.000038,
          150,
          10050.00019,
          5019.999981,
          6800.000191,
          21500,
          250,
          2450.000048,
          2440.000057,
          261600.0061,
          5170.000076,
          7780.00021,
          5519.999981,
          92720.00122,
          5090.000153,
          230.0000042,
          6869.999886,
          70220.00122,
          25909.99985
         ],
         "yaxis": "y"
        }
       ],
       "layout": {
        "legend": {
         "tracegroupgap": 0
        },
        "margin": {
         "t": 60
        },
        "template": {
         "data": {
          "bar": [
           {
            "error_x": {
             "color": "#2a3f5f"
            },
            "error_y": {
             "color": "#2a3f5f"
            },
            "marker": {
             "line": {
              "color": "#E5ECF6",
              "width": 0.5
             },
             "pattern": {
              "fillmode": "overlay",
              "size": 10,
              "solidity": 0.2
             }
            },
            "type": "bar"
           }
          ],
          "barpolar": [
           {
            "marker": {
             "line": {
              "color": "#E5ECF6",
              "width": 0.5
             },
             "pattern": {
              "fillmode": "overlay",
              "size": 10,
              "solidity": 0.2
             }
            },
            "type": "barpolar"
           }
          ],
          "carpet": [
           {
            "aaxis": {
             "endlinecolor": "#2a3f5f",
             "gridcolor": "white",
             "linecolor": "white",
             "minorgridcolor": "white",
             "startlinecolor": "#2a3f5f"
            },
            "baxis": {
             "endlinecolor": "#2a3f5f",
             "gridcolor": "white",
             "linecolor": "white",
             "minorgridcolor": "white",
             "startlinecolor": "#2a3f5f"
            },
            "type": "carpet"
           }
          ],
          "choropleth": [
           {
            "colorbar": {
             "outlinewidth": 0,
             "ticks": ""
            },
            "type": "choropleth"
           }
          ],
          "contour": [
           {
            "colorbar": {
             "outlinewidth": 0,
             "ticks": ""
            },
            "colorscale": [
             [
              0,
              "#0d0887"
             ],
             [
              0.1111111111111111,
              "#46039f"
             ],
             [
              0.2222222222222222,
              "#7201a8"
             ],
             [
              0.3333333333333333,
              "#9c179e"
             ],
             [
              0.4444444444444444,
              "#bd3786"
             ],
             [
              0.5555555555555556,
              "#d8576b"
             ],
             [
              0.6666666666666666,
              "#ed7953"
             ],
             [
              0.7777777777777778,
              "#fb9f3a"
             ],
             [
              0.8888888888888888,
              "#fdca26"
             ],
             [
              1,
              "#f0f921"
             ]
            ],
            "type": "contour"
           }
          ],
          "contourcarpet": [
           {
            "colorbar": {
             "outlinewidth": 0,
             "ticks": ""
            },
            "type": "contourcarpet"
           }
          ],
          "heatmap": [
           {
            "colorbar": {
             "outlinewidth": 0,
             "ticks": ""
            },
            "colorscale": [
             [
              0,
              "#0d0887"
             ],
             [
              0.1111111111111111,
              "#46039f"
             ],
             [
              0.2222222222222222,
              "#7201a8"
             ],
             [
              0.3333333333333333,
              "#9c179e"
             ],
             [
              0.4444444444444444,
              "#bd3786"
             ],
             [
              0.5555555555555556,
              "#d8576b"
             ],
             [
              0.6666666666666666,
              "#ed7953"
             ],
             [
              0.7777777777777778,
              "#fb9f3a"
             ],
             [
              0.8888888888888888,
              "#fdca26"
             ],
             [
              1,
              "#f0f921"
             ]
            ],
            "type": "heatmap"
           }
          ],
          "heatmapgl": [
           {
            "colorbar": {
             "outlinewidth": 0,
             "ticks": ""
            },
            "colorscale": [
             [
              0,
              "#0d0887"
             ],
             [
              0.1111111111111111,
              "#46039f"
             ],
             [
              0.2222222222222222,
              "#7201a8"
             ],
             [
              0.3333333333333333,
              "#9c179e"
             ],
             [
              0.4444444444444444,
              "#bd3786"
             ],
             [
              0.5555555555555556,
              "#d8576b"
             ],
             [
              0.6666666666666666,
              "#ed7953"
             ],
             [
              0.7777777777777778,
              "#fb9f3a"
             ],
             [
              0.8888888888888888,
              "#fdca26"
             ],
             [
              1,
              "#f0f921"
             ]
            ],
            "type": "heatmapgl"
           }
          ],
          "histogram": [
           {
            "marker": {
             "pattern": {
              "fillmode": "overlay",
              "size": 10,
              "solidity": 0.2
             }
            },
            "type": "histogram"
           }
          ],
          "histogram2d": [
           {
            "colorbar": {
             "outlinewidth": 0,
             "ticks": ""
            },
            "colorscale": [
             [
              0,
              "#0d0887"
             ],
             [
              0.1111111111111111,
              "#46039f"
             ],
             [
              0.2222222222222222,
              "#7201a8"
             ],
             [
              0.3333333333333333,
              "#9c179e"
             ],
             [
              0.4444444444444444,
              "#bd3786"
             ],
             [
              0.5555555555555556,
              "#d8576b"
             ],
             [
              0.6666666666666666,
              "#ed7953"
             ],
             [
              0.7777777777777778,
              "#fb9f3a"
             ],
             [
              0.8888888888888888,
              "#fdca26"
             ],
             [
              1,
              "#f0f921"
             ]
            ],
            "type": "histogram2d"
           }
          ],
          "histogram2dcontour": [
           {
            "colorbar": {
             "outlinewidth": 0,
             "ticks": ""
            },
            "colorscale": [
             [
              0,
              "#0d0887"
             ],
             [
              0.1111111111111111,
              "#46039f"
             ],
             [
              0.2222222222222222,
              "#7201a8"
             ],
             [
              0.3333333333333333,
              "#9c179e"
             ],
             [
              0.4444444444444444,
              "#bd3786"
             ],
             [
              0.5555555555555556,
              "#d8576b"
             ],
             [
              0.6666666666666666,
              "#ed7953"
             ],
             [
              0.7777777777777778,
              "#fb9f3a"
             ],
             [
              0.8888888888888888,
              "#fdca26"
             ],
             [
              1,
              "#f0f921"
             ]
            ],
            "type": "histogram2dcontour"
           }
          ],
          "mesh3d": [
           {
            "colorbar": {
             "outlinewidth": 0,
             "ticks": ""
            },
            "type": "mesh3d"
           }
          ],
          "parcoords": [
           {
            "line": {
             "colorbar": {
              "outlinewidth": 0,
              "ticks": ""
             }
            },
            "type": "parcoords"
           }
          ],
          "pie": [
           {
            "automargin": true,
            "type": "pie"
           }
          ],
          "scatter": [
           {
            "fillpattern": {
             "fillmode": "overlay",
             "size": 10,
             "solidity": 0.2
            },
            "type": "scatter"
           }
          ],
          "scatter3d": [
           {
            "line": {
             "colorbar": {
              "outlinewidth": 0,
              "ticks": ""
             }
            },
            "marker": {
             "colorbar": {
              "outlinewidth": 0,
              "ticks": ""
             }
            },
            "type": "scatter3d"
           }
          ],
          "scattercarpet": [
           {
            "marker": {
             "colorbar": {
              "outlinewidth": 0,
              "ticks": ""
             }
            },
            "type": "scattercarpet"
           }
          ],
          "scattergeo": [
           {
            "marker": {
             "colorbar": {
              "outlinewidth": 0,
              "ticks": ""
             }
            },
            "type": "scattergeo"
           }
          ],
          "scattergl": [
           {
            "marker": {
             "colorbar": {
              "outlinewidth": 0,
              "ticks": ""
             }
            },
            "type": "scattergl"
           }
          ],
          "scattermapbox": [
           {
            "marker": {
             "colorbar": {
              "outlinewidth": 0,
              "ticks": ""
             }
            },
            "type": "scattermapbox"
           }
          ],
          "scatterpolar": [
           {
            "marker": {
             "colorbar": {
              "outlinewidth": 0,
              "ticks": ""
             }
            },
            "type": "scatterpolar"
           }
          ],
          "scatterpolargl": [
           {
            "marker": {
             "colorbar": {
              "outlinewidth": 0,
              "ticks": ""
             }
            },
            "type": "scatterpolargl"
           }
          ],
          "scatterternary": [
           {
            "marker": {
             "colorbar": {
              "outlinewidth": 0,
              "ticks": ""
             }
            },
            "type": "scatterternary"
           }
          ],
          "surface": [
           {
            "colorbar": {
             "outlinewidth": 0,
             "ticks": ""
            },
            "colorscale": [
             [
              0,
              "#0d0887"
             ],
             [
              0.1111111111111111,
              "#46039f"
             ],
             [
              0.2222222222222222,
              "#7201a8"
             ],
             [
              0.3333333333333333,
              "#9c179e"
             ],
             [
              0.4444444444444444,
              "#bd3786"
             ],
             [
              0.5555555555555556,
              "#d8576b"
             ],
             [
              0.6666666666666666,
              "#ed7953"
             ],
             [
              0.7777777777777778,
              "#fb9f3a"
             ],
             [
              0.8888888888888888,
              "#fdca26"
             ],
             [
              1,
              "#f0f921"
             ]
            ],
            "type": "surface"
           }
          ],
          "table": [
           {
            "cells": {
             "fill": {
              "color": "#EBF0F8"
             },
             "line": {
              "color": "white"
             }
            },
            "header": {
             "fill": {
              "color": "#C8D4E3"
             },
             "line": {
              "color": "white"
             }
            },
            "type": "table"
           }
          ]
         },
         "layout": {
          "annotationdefaults": {
           "arrowcolor": "#2a3f5f",
           "arrowhead": 0,
           "arrowwidth": 1
          },
          "autotypenumbers": "strict",
          "coloraxis": {
           "colorbar": {
            "outlinewidth": 0,
            "ticks": ""
           }
          },
          "colorscale": {
           "diverging": [
            [
             0,
             "#8e0152"
            ],
            [
             0.1,
             "#c51b7d"
            ],
            [
             0.2,
             "#de77ae"
            ],
            [
             0.3,
             "#f1b6da"
            ],
            [
             0.4,
             "#fde0ef"
            ],
            [
             0.5,
             "#f7f7f7"
            ],
            [
             0.6,
             "#e6f5d0"
            ],
            [
             0.7,
             "#b8e186"
            ],
            [
             0.8,
             "#7fbc41"
            ],
            [
             0.9,
             "#4d9221"
            ],
            [
             1,
             "#276419"
            ]
           ],
           "sequential": [
            [
             0,
             "#0d0887"
            ],
            [
             0.1111111111111111,
             "#46039f"
            ],
            [
             0.2222222222222222,
             "#7201a8"
            ],
            [
             0.3333333333333333,
             "#9c179e"
            ],
            [
             0.4444444444444444,
             "#bd3786"
            ],
            [
             0.5555555555555556,
             "#d8576b"
            ],
            [
             0.6666666666666666,
             "#ed7953"
            ],
            [
             0.7777777777777778,
             "#fb9f3a"
            ],
            [
             0.8888888888888888,
             "#fdca26"
            ],
            [
             1,
             "#f0f921"
            ]
           ],
           "sequentialminus": [
            [
             0,
             "#0d0887"
            ],
            [
             0.1111111111111111,
             "#46039f"
            ],
            [
             0.2222222222222222,
             "#7201a8"
            ],
            [
             0.3333333333333333,
             "#9c179e"
            ],
            [
             0.4444444444444444,
             "#bd3786"
            ],
            [
             0.5555555555555556,
             "#d8576b"
            ],
            [
             0.6666666666666666,
             "#ed7953"
            ],
            [
             0.7777777777777778,
             "#fb9f3a"
            ],
            [
             0.8888888888888888,
             "#fdca26"
            ],
            [
             1,
             "#f0f921"
            ]
           ]
          },
          "colorway": [
           "#636efa",
           "#EF553B",
           "#00cc96",
           "#ab63fa",
           "#FFA15A",
           "#19d3f3",
           "#FF6692",
           "#B6E880",
           "#FF97FF",
           "#FECB52"
          ],
          "font": {
           "color": "#2a3f5f"
          },
          "geo": {
           "bgcolor": "white",
           "lakecolor": "white",
           "landcolor": "#E5ECF6",
           "showlakes": true,
           "showland": true,
           "subunitcolor": "white"
          },
          "hoverlabel": {
           "align": "left"
          },
          "hovermode": "closest",
          "mapbox": {
           "style": "light"
          },
          "paper_bgcolor": "white",
          "plot_bgcolor": "#E5ECF6",
          "polar": {
           "angularaxis": {
            "gridcolor": "white",
            "linecolor": "white",
            "ticks": ""
           },
           "bgcolor": "#E5ECF6",
           "radialaxis": {
            "gridcolor": "white",
            "linecolor": "white",
            "ticks": ""
           }
          },
          "scene": {
           "xaxis": {
            "backgroundcolor": "#E5ECF6",
            "gridcolor": "white",
            "gridwidth": 2,
            "linecolor": "white",
            "showbackground": true,
            "ticks": "",
            "zerolinecolor": "white"
           },
           "yaxis": {
            "backgroundcolor": "#E5ECF6",
            "gridcolor": "white",
            "gridwidth": 2,
            "linecolor": "white",
            "showbackground": true,
            "ticks": "",
            "zerolinecolor": "white"
           },
           "zaxis": {
            "backgroundcolor": "#E5ECF6",
            "gridcolor": "white",
            "gridwidth": 2,
            "linecolor": "white",
            "showbackground": true,
            "ticks": "",
            "zerolinecolor": "white"
           }
          },
          "shapedefaults": {
           "line": {
            "color": "#2a3f5f"
           }
          },
          "ternary": {
           "aaxis": {
            "gridcolor": "white",
            "linecolor": "white",
            "ticks": ""
           },
           "baxis": {
            "gridcolor": "white",
            "linecolor": "white",
            "ticks": ""
           },
           "bgcolor": "#E5ECF6",
           "caxis": {
            "gridcolor": "white",
            "linecolor": "white",
            "ticks": ""
           }
          },
          "title": {
           "x": 0.05
          },
          "xaxis": {
           "automargin": true,
           "gridcolor": "white",
           "linecolor": "white",
           "ticks": "",
           "title": {
            "standoff": 15
           },
           "zerolinecolor": "white",
           "zerolinewidth": 2
          },
          "yaxis": {
           "automargin": true,
           "gridcolor": "white",
           "linecolor": "white",
           "ticks": "",
           "title": {
            "standoff": 15
           },
           "zerolinecolor": "white",
           "zerolinewidth": 2
          }
         }
        },
        "xaxis": {
         "anchor": "y",
         "domain": [
          0,
          1
         ],
         "title": {
          "text": "CO2 prédit"
         }
        },
        "yaxis": {
         "anchor": "x",
         "domain": [
          0,
          1
         ],
         "title": {
          "text": "CO2 observée"
         }
        }
       }
      }
     },
     "metadata": {},
     "output_type": "display_data"
    }
   ],
   "source": [
    "import plotly.express as px\n",
    "\n",
    "fig=px.scatter(x=prev,y=y_test,labels={'x': 'CO2 prédit' , 'y': 'CO2 observée'})\n",
    "fig.show()\n",
    "\n",
    "#plt.plot(prev,Yr_test,\"o\")\n",
    "#plt.xlabel(u\"O3 Prédite\")\n",
    "#plt.ylabel(\"O3 observee\")\n",
    "#plt.show()"
   ]
  },
  {
   "cell_type": "code",
   "execution_count": null,
   "metadata": {},
   "outputs": [],
   "source": []
  }
 ],
 "metadata": {
  "kernelspec": {
   "display_name": "ProjetML",
   "language": "python",
   "name": "python3"
  },
  "language_info": {
   "codemirror_mode": {
    "name": "ipython",
    "version": 3
   },
   "file_extension": ".py",
   "mimetype": "text/x-python",
   "name": "python",
   "nbconvert_exporter": "python",
   "pygments_lexer": "ipython3",
   "version": "3.9.18"
  }
 },
 "nbformat": 4,
 "nbformat_minor": 2
}
